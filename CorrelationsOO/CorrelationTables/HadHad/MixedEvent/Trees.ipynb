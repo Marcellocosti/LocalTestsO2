{
 "cells": [
  {
   "cell_type": "code",
   "execution_count": null,
   "metadata": {},
   "outputs": [
    {
     "name": "stdout",
     "output_type": "stream",
     "text": [
      "ROOT Keys: ['DF_2424272862165760;1', 'DF_2424272862165760/O2hfcredchhad;1', 'DF_2424272862165760/O2hfcredhadhad;1', 'parentFiles;1']\n",
      "No keys found for table: O2hfcredcorrpair\n"
     ]
    }
   ],
   "source": [
    "import uproot\n",
    "import pandas as pd\n",
    "import matplotlib.pyplot as plt\n",
    "import awkward as ak\n",
    "\n",
    "tables = [\n",
    "    \"O2hfcredcorrpair\",\n",
    "    \"O2hfcredhadhad\",\n",
    "]\n",
    "\n",
    "with uproot.open(\"/home/mdicosta/LocalTestsO2/CorrelationsOO/CorrelationTables/HadHad/MixedEvent/AO2D.root\") as f:\n",
    "    keys = f.keys()\n",
    "    print(\"ROOT Keys:\", keys)\n",
    "    \n",
    "    for table in tables:\n",
    "        # Filter keys that match the table name\n",
    "        matched_keys = [key for key in keys if table in key]\n",
    "        \n",
    "        if not matched_keys:\n",
    "            print(f\"No keys found for table: {table}\")\n",
    "            continue\n",
    "        \n",
    "        dfs = []\n",
    "        for key in matched_keys:\n",
    "            print(f\"Reading {key}\")\n",
    "            array = f[key].arrays(library=\"ak\")  # get awkward array\n",
    "            df = ak.to_dataframe(array)          # convert to pandas DataFrame\n",
    "            dfs.append(df)\n",
    "        \n",
    "        full_df = pd.concat(dfs, ignore_index=True)\n",
    "        print(f\"\\nTable: {table}\")\n",
    "        print(f\"Number of entries: {len(full_df)}\")\n",
    "        print(f\"Columns: {full_df.columns.tolist()}\")\n",
    "        \n",
    "        # Plotting\n",
    "        n_columns = len(full_df.columns)\n",
    "        n_rows = (n_columns // 4) + (1 if n_columns % 4 else 0)\n",
    "        \n",
    "        fig, axes = plt.subplots(n_rows, 4, figsize=(15, 5 * n_rows))\n",
    "        axes = axes.flatten()\n",
    "\n",
    "        for i, column in enumerate(full_df.columns):\n",
    "            print(f\"Plotting {column}\")\n",
    "            try:\n",
    "                if 'Centrality' in column:\n",
    "                    axes[i].hist(full_df[column].dropna(), bins=20, color='blue')\n",
    "                else:\n",
    "                    axes[i].hist(full_df[column].dropna(), bins=50, color='blue')\n",
    "                axes[i].set_title(f'{column}')\n",
    "                axes[i].set_xlabel('Value')\n",
    "                axes[i].set_ylabel('Frequency')\n",
    "                # axes[i].set_yscale('log')\n",
    "            except Exception as e:\n",
    "                print(f\"Could not plot column {column}: {e}\")\n",
    "                axes[i].set_visible(False)\n",
    "        \n",
    "        # Remove unused axes if any\n",
    "        for i in range(n_columns, len(axes)):\n",
    "            fig.delaxes(axes[i])\n",
    "        \n",
    "        fig.suptitle(f\"Histograms for table: {table}\", fontsize=16)\n",
    "        plt.tight_layout(rect=[0, 0, 1, 0.96])\n",
    "        plt.show()\n"
   ]
  }
 ],
 "metadata": {
  "kernelspec": {
   "display_name": "phys",
   "language": "python",
   "name": "python3"
  },
  "language_info": {
   "codemirror_mode": {
    "name": "ipython",
    "version": 3
   },
   "file_extension": ".py",
   "mimetype": "text/x-python",
   "name": "python",
   "nbconvert_exporter": "python",
   "pygments_lexer": "ipython3",
   "version": "3.12.3"
  }
 },
 "nbformat": 4,
 "nbformat_minor": 2
}
