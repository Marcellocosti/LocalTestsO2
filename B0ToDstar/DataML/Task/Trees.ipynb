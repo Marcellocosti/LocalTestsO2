{
 "cells": [
  {
   "cell_type": "code",
   "execution_count": null,
   "metadata": {},
   "outputs": [
    {
     "name": "stdout",
     "output_type": "stream",
     "text": [
      "ROOT Keys: ['DF_2387899194678550;1', 'DF_2387899194678550/O2hfcandb0dstar;1', 'DF_2387899194678550/O2hfmlb0;1', 'DF_2387899194678550/O2hfredb0dpml;1', 'DF_2387899194678550/O2hfredb0mccheck;1', 'DF_2387899194678550/O2hfredb0prongdst;1', 'DF_2387899194678550/O2hfredcandb0lite;1', 'DF_2387899194678550/O2hfselb0;1', 'parentFiles;1']\n",
      "No keys found for table: O2hfcandbsbase\n",
      "No keys found for table: O2hfredbsprong\n",
      "No keys found for table: O2hfredbsdsml\n",
      "No keys found for table: O2hfselbs\n",
      "No keys found for table: O2hfmlbs\n",
      "No keys found for table: O2hfredcandbslite\n"
     ]
    }
   ],
   "source": [
    "import uproot\n",
    "import pandas as pd\n",
    "import matplotlib.pyplot as plt\n",
    "\n",
    "tables = [\n",
    "    \"O2hfcandb0base\",\n",
    "    \"O2hfredb0prong\",\n",
    "    \"O2hfredb0prongdst\",\n",
    "    \"O2hfredb0softpi\",\n",
    "    \"O2hfredb0dpml\",\n",
    "    \"O2hfselb0\",\n",
    "    \"O2hfmlb0\",\n",
    "    \"O2hfredcandb0lite\",\n",
    "    # \"O2hfredb0mccheck\",\n",
    "]\n",
    "\n",
    "with uproot.open(\"Tree.root\") as f:\n",
    "    keys = f.keys()\n",
    "    print(\"ROOT Keys:\", keys)\n",
    "    \n",
    "    for table in tables:\n",
    "        # Filter keys that match the table name\n",
    "        matched_keys = [key for key in keys if f\"{table};\" in key]\n",
    "        \n",
    "        if not matched_keys:\n",
    "            print(f\"No keys found for table: {table}\")\n",
    "            continue\n",
    "        \n",
    "        dfs = []\n",
    "        for key in matched_keys:\n",
    "            print(f\"Reading {key}\")\n",
    "            df = f[key].arrays(library=\"pd\")\n",
    "            dfs.append(df)\n",
    "        \n",
    "        full_df = pd.concat(dfs, ignore_index=True)\n",
    "        print(f\"\\nTable: {table}\")\n",
    "        print(f\"Number of entries: {len(full_df)}\")\n",
    "        print(f\"Columns: {full_df.columns.tolist()}\")\n",
    "        \n",
    "        # Plotting\n",
    "        n_columns = len(full_df.columns)\n",
    "        n_rows = (n_columns // 4) + (1 if n_columns % 4 else 0)\n",
    "        \n",
    "        fig, axes = plt.subplots(n_rows, 4, figsize=(15, 5 * n_rows))\n",
    "        axes = axes.flatten()\n",
    "\n",
    "        for i, column in enumerate(full_df.columns):\n",
    "            print(f\"Plotting {column}\")\n",
    "            try:\n",
    "                axes[i].hist(full_df[column].dropna(), bins=50, color='blue')\n",
    "                axes[i].set_title(f'{column}')\n",
    "                axes[i].set_xlabel('Value')\n",
    "                axes[i].set_ylabel('Frequency')\n",
    "            except Exception as e:\n",
    "                print(f\"Could not plot column {column}: {e}\")\n",
    "                axes[i].set_visible(False)\n",
    "        \n",
    "        # Remove unused axes if any\n",
    "        for i in range(n_columns, len(axes)):\n",
    "            fig.delaxes(axes[i])\n",
    "        \n",
    "        fig.suptitle(f\"Histograms for table: {table}\", fontsize=16)\n",
    "        plt.tight_layout(rect=[0, 0, 1, 0.96])\n",
    "        plt.show()\n"
   ]
  }
 ],
 "metadata": {
  "kernelspec": {
   "display_name": "phys",
   "language": "python",
   "name": "python3"
  },
  "language_info": {
   "codemirror_mode": {
    "name": "ipython",
    "version": 3
   },
   "file_extension": ".py",
   "mimetype": "text/x-python",
   "name": "python",
   "nbconvert_exporter": "python",
   "pygments_lexer": "ipython3",
   "version": "3.12.3"
  }
 },
 "nbformat": 4,
 "nbformat_minor": 2
}
