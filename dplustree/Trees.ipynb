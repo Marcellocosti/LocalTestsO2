{
 "cells": [
  {
   "cell_type": "code",
   "execution_count": 1,
   "metadata": {},
   "outputs": [],
   "source": [
    "import pandas as pd\n",
    "import matplotlib.pyplot as plt\n",
    "import uproot"
   ]
  },
  {
   "cell_type": "code",
   "execution_count": 2,
   "metadata": {},
   "outputs": [
    {
     "name": "stdout",
     "output_type": "stream",
     "text": [
      "['DF_2261906130553975;1', 'DF_2261906130553975/O2hfcanddplite;1', 'DF_2261906130553975/O2hfcanddpml;1', 'DF_2261906130554103;1', 'DF_2261906130554103/O2hfcanddplite;1', 'DF_2261906130554103/O2hfcanddpml;1', 'DF_2261906130554231;1', 'DF_2261906130554231/O2hfcanddplite;1', 'DF_2261906130554231/O2hfcanddpml;1', 'DF_2261906130554359;1', 'DF_2261906130554359/O2hfcanddplite;1', 'DF_2261906130554359/O2hfcanddpml;1', 'DF_2261906130554487;1', 'DF_2261906130554487/O2hfcanddplite;1', 'DF_2261906130554487/O2hfcanddpml;1', 'DF_2261906080643575;1', 'DF_2261906080643575/O2hfcanddplite;1', 'DF_2261906080643575/O2hfcanddpml;1', 'DF_2261906080643703;1', 'DF_2261906080643703/O2hfcanddplite;1', 'DF_2261906080643703/O2hfcanddpml;1', 'DF_2261906080643831;1', 'DF_2261906080643831/O2hfcanddplite;1', 'DF_2261906080643831/O2hfcanddpml;1', 'DF_2261906080643959;1', 'DF_2261906080643959/O2hfcanddplite;1', 'DF_2261906080643959/O2hfcanddpml;1', 'DF_2261906080644087;1', 'DF_2261906080644087/O2hfcanddplite;1', 'DF_2261906080644087/O2hfcanddpml;1', 'DF_2261906082516855;1', 'DF_2261906082516855/O2hfcanddplite;1', 'DF_2261906082516855/O2hfcanddpml;1', 'DF_2261906082516983;1', 'DF_2261906082516983/O2hfcanddplite;1', 'DF_2261906082516983/O2hfcanddpml;1', 'DF_2261906082517111;1', 'DF_2261906082517111/O2hfcanddplite;1', 'DF_2261906082517111/O2hfcanddpml;1', 'DF_2261906082517239;1', 'DF_2261906082517239/O2hfcanddplite;1', 'DF_2261906082517239/O2hfcanddpml;1', 'DF_2261906082517367;1', 'DF_2261906082517367/O2hfcanddplite;1', 'DF_2261906082517367/O2hfcanddpml;1', 'DF_2261906083756535;1', 'DF_2261906083756535/O2hfcanddplite;1', 'DF_2261906083756535/O2hfcanddpml;1', 'DF_2261906083756663;1', 'DF_2261906083756663/O2hfcanddplite;1', 'DF_2261906083756663/O2hfcanddpml;1', 'DF_2261906083756791;1', 'DF_2261906083756791/O2hfcanddplite;1', 'DF_2261906083756791/O2hfcanddpml;1', 'DF_2261906083756919;1', 'DF_2261906083756919/O2hfcanddplite;1', 'DF_2261906083756919/O2hfcanddpml;1', 'DF_2261906083757047;1', 'DF_2261906083757047/O2hfcanddplite;1', 'DF_2261906083757047/O2hfcanddpml;1', 'DF_2261906084228855;1', 'DF_2261906084228855/O2hfcanddplite;1', 'DF_2261906084228855/O2hfcanddpml;1', 'DF_2261906084228983;1', 'DF_2261906084228983/O2hfcanddplite;1', 'DF_2261906084228983/O2hfcanddpml;1', 'DF_2261906084229111;1', 'DF_2261906084229111/O2hfcanddplite;1', 'DF_2261906084229111/O2hfcanddpml;1', 'DF_2261906084229239;1', 'DF_2261906084229239/O2hfcanddplite;1', 'DF_2261906084229239/O2hfcanddpml;1', 'DF_2261906084229367;1', 'DF_2261906084229367/O2hfcanddplite;1', 'DF_2261906084229367/O2hfcanddpml;1', 'DF_2261906086928375;1', 'DF_2261906086928375/O2hfcanddplite;1', 'DF_2261906086928375/O2hfcanddpml;1', 'DF_2261906086928503;1', 'DF_2261906086928503/O2hfcanddplite;1', 'DF_2261906086928503/O2hfcanddpml;1', 'DF_2261906086928631;1', 'DF_2261906086928631/O2hfcanddplite;1', 'DF_2261906086928631/O2hfcanddpml;1', 'DF_2261906086928759;1', 'DF_2261906086928759/O2hfcanddplite;1', 'DF_2261906086928759/O2hfcanddpml;1', 'DF_2261906086928887;1', 'DF_2261906086928887/O2hfcanddplite;1', 'DF_2261906086928887/O2hfcanddpml;1', 'DF_2261906087090935;1', 'DF_2261906087090935/O2hfcanddplite;1', 'DF_2261906087090935/O2hfcanddpml;1', 'DF_2261906087091063;1', 'DF_2261906087091063/O2hfcanddplite;1', 'DF_2261906087091063/O2hfcanddpml;1', 'DF_2261906087091191;1', 'DF_2261906087091191/O2hfcanddplite;1', 'DF_2261906087091191/O2hfcanddpml;1', 'DF_2261906087091319;1', 'DF_2261906087091319/O2hfcanddplite;1', 'DF_2261906087091319/O2hfcanddpml;1', 'DF_2261906087091447;1', 'DF_2261906087091447/O2hfcanddplite;1', 'DF_2261906087091447/O2hfcanddpml;1', 'DF_2261906087577335;1', 'DF_2261906087577335/O2hfcanddplite;1', 'DF_2261906087577335/O2hfcanddpml;1', 'DF_2261906087577463;1', 'DF_2261906087577463/O2hfcanddplite;1', 'DF_2261906087577463/O2hfcanddpml;1', 'DF_2261906087577591;1', 'DF_2261906087577591/O2hfcanddplite;1', 'DF_2261906087577591/O2hfcanddpml;1', 'DF_2261906087577719;1', 'DF_2261906087577719/O2hfcanddplite;1', 'DF_2261906087577719/O2hfcanddpml;1', 'DF_2261906087577847;1', 'DF_2261906087577847/O2hfcanddplite;1', 'DF_2261906087577847/O2hfcanddpml;1', 'DF_2261906087592055;1', 'DF_2261906087592055/O2hfcanddplite;1', 'DF_2261906087592055/O2hfcanddpml;1', 'DF_2261906087592183;1', 'DF_2261906087592183/O2hfcanddplite;1', 'DF_2261906087592183/O2hfcanddpml;1', 'DF_2261906087592311;1', 'DF_2261906087592311/O2hfcanddplite;1', 'DF_2261906087592311/O2hfcanddpml;1', 'DF_2261906087592439;1', 'DF_2261906087592439/O2hfcanddplite;1', 'DF_2261906087592439/O2hfcanddpml;1', 'DF_2261906087592567;1', 'DF_2261906087592567/O2hfcanddplite;1', 'DF_2261906087592567/O2hfcanddpml;1', 'DF_2261906087606775;1', 'DF_2261906087606775/O2hfcanddplite;1', 'DF_2261906087606775/O2hfcanddpml;1', 'DF_2261906087606903;1', 'DF_2261906087606903/O2hfcanddplite;1', 'DF_2261906087606903/O2hfcanddpml;1', 'DF_2261906087607031;1', 'DF_2261906087607031/O2hfcanddplite;1', 'DF_2261906087607031/O2hfcanddpml;1', 'DF_2261906087607159;1', 'DF_2261906087607159/O2hfcanddplite;1', 'DF_2261906087607159/O2hfcanddpml;1', 'DF_2261906087607287;1', 'DF_2261906087607287/O2hfcanddplite;1', 'DF_2261906087607287/O2hfcanddpml;1', 'DF_2261906088978935;1', 'DF_2261906088978935/O2hfcanddplite;1', 'DF_2261906088978935/O2hfcanddpml;1', 'DF_2261906088979063;1', 'DF_2261906088979063/O2hfcanddplite;1', 'DF_2261906088979063/O2hfcanddpml;1', 'DF_2261906088979191;1', 'DF_2261906088979191/O2hfcanddplite;1', 'DF_2261906088979191/O2hfcanddpml;1', 'DF_2261906088979319;1', 'DF_2261906088979319/O2hfcanddplite;1', 'DF_2261906088979319/O2hfcanddpml;1', 'DF_2261906088979447;1', 'DF_2261906088979447/O2hfcanddplite;1', 'DF_2261906088979447/O2hfcanddpml;1', 'DF_2261906088993655;1', 'DF_2261906088993655/O2hfcanddplite;1', 'DF_2261906088993655/O2hfcanddpml;1', 'DF_2261906088993783;1', 'DF_2261906088993783/O2hfcanddplite;1', 'DF_2261906088993783/O2hfcanddpml;1', 'DF_2261906088993911;1', 'DF_2261906088993911/O2hfcanddplite;1', 'DF_2261906088993911/O2hfcanddpml;1', 'DF_2261906088994039;1', 'DF_2261906088994039/O2hfcanddplite;1', 'DF_2261906088994039/O2hfcanddpml;1', 'DF_2261906088994167;1', 'DF_2261906088994167/O2hfcanddplite;1', 'DF_2261906088994167/O2hfcanddpml;1', 'DF_2261906079566455;1', 'DF_2261906079566455/O2hfcanddplite;1', 'DF_2261906079566455/O2hfcanddpml;1', 'DF_2261906079566583;1', 'DF_2261906079566583/O2hfcanddplite;1', 'DF_2261906079566583/O2hfcanddpml;1', 'DF_2261906079566711;1', 'DF_2261906079566711/O2hfcanddplite;1', 'DF_2261906079566711/O2hfcanddpml;1', 'DF_2261906079566839;1', 'DF_2261906079566839/O2hfcanddplite;1', 'DF_2261906079566839/O2hfcanddpml;1', 'DF_2261906079566967;1', 'DF_2261906079566967/O2hfcanddplite;1', 'DF_2261906079566967/O2hfcanddpml;1', 'DF_2261906081085815;1', 'DF_2261906081085815/O2hfcanddplite;1', 'DF_2261906081085815/O2hfcanddpml;1', 'DF_2261906081085943;1', 'DF_2261906081085943/O2hfcanddplite;1', 'DF_2261906081085943/O2hfcanddpml;1', 'DF_2261906081086071;1', 'DF_2261906081086071/O2hfcanddplite;1', 'DF_2261906081086071/O2hfcanddpml;1', 'DF_2261906081086199;1', 'DF_2261906081086199/O2hfcanddplite;1', 'DF_2261906081086199/O2hfcanddpml;1', 'DF_2261906081086327;1', 'DF_2261906081086327/O2hfcanddplite;1', 'DF_2261906081086327/O2hfcanddpml;1', 'DF_2261906100235895;1', 'DF_2261906100235895/O2hfcanddplite;1', 'DF_2261906100235895/O2hfcanddpml;1', 'DF_2261906100236023;1', 'DF_2261906100236023/O2hfcanddplite;1', 'DF_2261906100236023/O2hfcanddpml;1', 'DF_2261906100236151;1', 'DF_2261906100236151/O2hfcanddplite;1', 'DF_2261906100236151/O2hfcanddpml;1', 'DF_2261906100236279;1', 'DF_2261906100236279/O2hfcanddplite;1', 'DF_2261906100236279/O2hfcanddpml;1', 'DF_2261906100236407;1', 'DF_2261906100236407/O2hfcanddplite;1', 'DF_2261906100236407/O2hfcanddpml;1', 'DF_2261906102330615;1', 'DF_2261906102330615/O2hfcanddplite;1', 'DF_2261906102330615/O2hfcanddpml;1', 'DF_2261906102330743;1', 'DF_2261906102330743/O2hfcanddplite;1', 'DF_2261906102330743/O2hfcanddpml;1', 'DF_2261906102330871;1', 'DF_2261906102330871/O2hfcanddplite;1', 'DF_2261906102330871/O2hfcanddpml;1', 'DF_2261906102330999;1', 'DF_2261906102330999/O2hfcanddplite;1', 'DF_2261906102330999/O2hfcanddpml;1', 'DF_2261906102331127;1', 'DF_2261906102331127/O2hfcanddplite;1', 'DF_2261906102331127/O2hfcanddpml;1', 'DF_2261906104086775;1', 'DF_2261906104086775/O2hfcanddplite;1', 'DF_2261906104086775/O2hfcanddpml;1', 'DF_2261906104086903;1', 'DF_2261906104086903/O2hfcanddplite;1', 'DF_2261906104086903/O2hfcanddpml;1', 'DF_2261906104087031;1', 'DF_2261906104087031/O2hfcanddplite;1', 'DF_2261906104087031/O2hfcanddpml;1', 'DF_2261906104087159;1', 'DF_2261906104087159/O2hfcanddplite;1', 'DF_2261906104087159/O2hfcanddpml;1', 'DF_2261906104087287;1', 'DF_2261906104087287/O2hfcanddplite;1', 'DF_2261906104087287/O2hfcanddpml;1', 'DF_2261906105222775;1', 'DF_2261906105222775/O2hfcanddplite;1', 'DF_2261906105222775/O2hfcanddpml;1', 'DF_2261906105222903;1', 'DF_2261906105222903/O2hfcanddplite;1', 'DF_2261906105222903/O2hfcanddpml;1', 'DF_2261906105223031;1', 'DF_2261906105223031/O2hfcanddplite;1', 'DF_2261906105223031/O2hfcanddpml;1', 'DF_2261906105223159;1', 'DF_2261906105223159/O2hfcanddplite;1', 'DF_2261906105223159/O2hfcanddpml;1', 'DF_2261906105223287;1', 'DF_2261906105223287/O2hfcanddplite;1', 'DF_2261906105223287/O2hfcanddpml;1', 'DF_2261906106402935;1', 'DF_2261906106402935/O2hfcanddplite;1', 'DF_2261906106402935/O2hfcanddpml;1', 'DF_2261906106403063;1', 'DF_2261906106403063/O2hfcanddplite;1', 'DF_2261906106403063/O2hfcanddpml;1', 'DF_2261906106403191;1', 'DF_2261906106403191/O2hfcanddplite;1', 'DF_2261906106403191/O2hfcanddpml;1', 'DF_2261906106403319;1', 'DF_2261906106403319/O2hfcanddplite;1', 'DF_2261906106403319/O2hfcanddpml;1', 'DF_2261906106403447;1', 'DF_2261906106403447/O2hfcanddplite;1', 'DF_2261906106403447/O2hfcanddpml;1', 'parentFiles;1']\n",
      "DF_2261906130553975/O2hfcanddplite;1\n",
      "DF_2261906130553975/O2hfcanddpml;1\n",
      "DF_2261906130554103/O2hfcanddplite;1\n",
      "DF_2261906130554103/O2hfcanddpml;1\n",
      "DF_2261906130554231/O2hfcanddplite;1\n",
      "DF_2261906130554231/O2hfcanddpml;1\n",
      "DF_2261906130554359/O2hfcanddplite;1\n",
      "DF_2261906130554359/O2hfcanddpml;1\n",
      "DF_2261906130554487/O2hfcanddplite;1\n",
      "DF_2261906130554487/O2hfcanddpml;1\n",
      "DF_2261906080643575/O2hfcanddplite;1\n",
      "DF_2261906080643575/O2hfcanddpml;1\n",
      "DF_2261906080643703/O2hfcanddplite;1\n",
      "DF_2261906080643703/O2hfcanddpml;1\n",
      "DF_2261906080643831/O2hfcanddplite;1\n",
      "DF_2261906080643831/O2hfcanddpml;1\n",
      "DF_2261906080643959/O2hfcanddplite;1\n",
      "DF_2261906080643959/O2hfcanddpml;1\n",
      "DF_2261906080644087/O2hfcanddplite;1\n",
      "DF_2261906080644087/O2hfcanddpml;1\n",
      "DF_2261906082516855/O2hfcanddplite;1\n",
      "DF_2261906082516855/O2hfcanddpml;1\n",
      "DF_2261906082516983/O2hfcanddplite;1\n",
      "DF_2261906082516983/O2hfcanddpml;1\n",
      "DF_2261906082517111/O2hfcanddplite;1\n",
      "DF_2261906082517111/O2hfcanddpml;1\n",
      "DF_2261906082517239/O2hfcanddplite;1\n",
      "DF_2261906082517239/O2hfcanddpml;1\n",
      "DF_2261906082517367/O2hfcanddplite;1\n",
      "DF_2261906082517367/O2hfcanddpml;1\n",
      "DF_2261906083756535/O2hfcanddplite;1\n",
      "DF_2261906083756535/O2hfcanddpml;1\n",
      "DF_2261906083756663/O2hfcanddplite;1\n",
      "DF_2261906083756663/O2hfcanddpml;1\n",
      "DF_2261906083756791/O2hfcanddplite;1\n",
      "DF_2261906083756791/O2hfcanddpml;1\n",
      "DF_2261906083756919/O2hfcanddplite;1\n",
      "DF_2261906083756919/O2hfcanddpml;1\n",
      "DF_2261906083757047/O2hfcanddplite;1\n",
      "DF_2261906083757047/O2hfcanddpml;1\n",
      "DF_2261906084228855/O2hfcanddplite;1\n",
      "DF_2261906084228855/O2hfcanddpml;1\n",
      "DF_2261906084228983/O2hfcanddplite;1\n",
      "DF_2261906084228983/O2hfcanddpml;1\n",
      "DF_2261906084229111/O2hfcanddplite;1\n",
      "DF_2261906084229111/O2hfcanddpml;1\n",
      "DF_2261906084229239/O2hfcanddplite;1\n",
      "DF_2261906084229239/O2hfcanddpml;1\n",
      "DF_2261906084229367/O2hfcanddplite;1\n",
      "DF_2261906084229367/O2hfcanddpml;1\n",
      "DF_2261906086928375/O2hfcanddplite;1\n",
      "DF_2261906086928375/O2hfcanddpml;1\n",
      "DF_2261906086928503/O2hfcanddplite;1\n",
      "DF_2261906086928503/O2hfcanddpml;1\n",
      "DF_2261906086928631/O2hfcanddplite;1\n",
      "DF_2261906086928631/O2hfcanddpml;1\n",
      "DF_2261906086928759/O2hfcanddplite;1\n",
      "DF_2261906086928759/O2hfcanddpml;1\n",
      "DF_2261906086928887/O2hfcanddplite;1\n",
      "DF_2261906086928887/O2hfcanddpml;1\n",
      "DF_2261906087090935/O2hfcanddplite;1\n",
      "DF_2261906087090935/O2hfcanddpml;1\n",
      "DF_2261906087091063/O2hfcanddplite;1\n",
      "DF_2261906087091063/O2hfcanddpml;1\n",
      "DF_2261906087091191/O2hfcanddplite;1\n",
      "DF_2261906087091191/O2hfcanddpml;1\n",
      "DF_2261906087091319/O2hfcanddplite;1\n",
      "DF_2261906087091319/O2hfcanddpml;1\n",
      "DF_2261906087091447/O2hfcanddplite;1\n",
      "DF_2261906087091447/O2hfcanddpml;1\n",
      "DF_2261906087577335/O2hfcanddplite;1\n",
      "DF_2261906087577335/O2hfcanddpml;1\n",
      "DF_2261906087577463/O2hfcanddplite;1\n",
      "DF_2261906087577463/O2hfcanddpml;1\n",
      "DF_2261906087577591/O2hfcanddplite;1\n",
      "DF_2261906087577591/O2hfcanddpml;1\n",
      "DF_2261906087577719/O2hfcanddplite;1\n",
      "DF_2261906087577719/O2hfcanddpml;1\n",
      "DF_2261906087577847/O2hfcanddplite;1\n",
      "DF_2261906087577847/O2hfcanddpml;1\n",
      "DF_2261906087592055/O2hfcanddplite;1\n",
      "DF_2261906087592055/O2hfcanddpml;1\n",
      "DF_2261906087592183/O2hfcanddplite;1\n",
      "DF_2261906087592183/O2hfcanddpml;1\n",
      "DF_2261906087592311/O2hfcanddplite;1\n",
      "DF_2261906087592311/O2hfcanddpml;1\n",
      "DF_2261906087592439/O2hfcanddplite;1\n",
      "DF_2261906087592439/O2hfcanddpml;1\n",
      "DF_2261906087592567/O2hfcanddplite;1\n",
      "DF_2261906087592567/O2hfcanddpml;1\n",
      "DF_2261906087606775/O2hfcanddplite;1\n",
      "DF_2261906087606775/O2hfcanddpml;1\n",
      "DF_2261906087606903/O2hfcanddplite;1\n",
      "DF_2261906087606903/O2hfcanddpml;1\n",
      "DF_2261906087607031/O2hfcanddplite;1\n",
      "DF_2261906087607031/O2hfcanddpml;1\n",
      "DF_2261906087607159/O2hfcanddplite;1\n",
      "DF_2261906087607159/O2hfcanddpml;1\n",
      "DF_2261906087607287/O2hfcanddplite;1\n",
      "DF_2261906087607287/O2hfcanddpml;1\n",
      "DF_2261906088978935/O2hfcanddplite;1\n",
      "DF_2261906088978935/O2hfcanddpml;1\n",
      "DF_2261906088979063/O2hfcanddplite;1\n",
      "DF_2261906088979063/O2hfcanddpml;1\n",
      "DF_2261906088979191/O2hfcanddplite;1\n",
      "DF_2261906088979191/O2hfcanddpml;1\n",
      "DF_2261906088979319/O2hfcanddplite;1\n",
      "DF_2261906088979319/O2hfcanddpml;1\n",
      "DF_2261906088979447/O2hfcanddplite;1\n",
      "DF_2261906088979447/O2hfcanddpml;1\n",
      "DF_2261906088993655/O2hfcanddplite;1\n",
      "DF_2261906088993655/O2hfcanddpml;1\n",
      "DF_2261906088993783/O2hfcanddplite;1\n",
      "DF_2261906088993783/O2hfcanddpml;1\n",
      "DF_2261906088993911/O2hfcanddplite;1\n",
      "DF_2261906088993911/O2hfcanddpml;1\n",
      "DF_2261906088994039/O2hfcanddplite;1\n",
      "DF_2261906088994039/O2hfcanddpml;1\n",
      "DF_2261906088994167/O2hfcanddplite;1\n",
      "DF_2261906088994167/O2hfcanddpml;1\n",
      "DF_2261906079566455/O2hfcanddplite;1\n",
      "DF_2261906079566455/O2hfcanddpml;1\n",
      "DF_2261906079566583/O2hfcanddplite;1\n",
      "DF_2261906079566583/O2hfcanddpml;1\n",
      "DF_2261906079566711/O2hfcanddplite;1\n",
      "DF_2261906079566711/O2hfcanddpml;1\n",
      "DF_2261906079566839/O2hfcanddplite;1\n",
      "DF_2261906079566839/O2hfcanddpml;1\n",
      "DF_2261906079566967/O2hfcanddplite;1\n",
      "DF_2261906079566967/O2hfcanddpml;1\n",
      "DF_2261906081085815/O2hfcanddplite;1\n",
      "DF_2261906081085815/O2hfcanddpml;1\n",
      "DF_2261906081085943/O2hfcanddplite;1\n",
      "DF_2261906081085943/O2hfcanddpml;1\n",
      "DF_2261906081086071/O2hfcanddplite;1\n",
      "DF_2261906081086071/O2hfcanddpml;1\n",
      "DF_2261906081086199/O2hfcanddplite;1\n",
      "DF_2261906081086199/O2hfcanddpml;1\n",
      "DF_2261906081086327/O2hfcanddplite;1\n",
      "DF_2261906081086327/O2hfcanddpml;1\n",
      "DF_2261906100235895/O2hfcanddplite;1\n",
      "DF_2261906100235895/O2hfcanddpml;1\n",
      "DF_2261906100236023/O2hfcanddplite;1\n",
      "DF_2261906100236023/O2hfcanddpml;1\n",
      "DF_2261906100236151/O2hfcanddplite;1\n",
      "DF_2261906100236151/O2hfcanddpml;1\n",
      "DF_2261906100236279/O2hfcanddplite;1\n",
      "DF_2261906100236279/O2hfcanddpml;1\n",
      "DF_2261906100236407/O2hfcanddplite;1\n",
      "DF_2261906100236407/O2hfcanddpml;1\n",
      "DF_2261906102330615/O2hfcanddplite;1\n",
      "DF_2261906102330615/O2hfcanddpml;1\n",
      "DF_2261906102330743/O2hfcanddplite;1\n",
      "DF_2261906102330743/O2hfcanddpml;1\n",
      "DF_2261906102330871/O2hfcanddplite;1\n",
      "DF_2261906102330871/O2hfcanddpml;1\n",
      "DF_2261906102330999/O2hfcanddplite;1\n",
      "DF_2261906102330999/O2hfcanddpml;1\n",
      "DF_2261906102331127/O2hfcanddplite;1\n",
      "DF_2261906102331127/O2hfcanddpml;1\n",
      "DF_2261906104086775/O2hfcanddplite;1\n",
      "DF_2261906104086775/O2hfcanddpml;1\n",
      "DF_2261906104086903/O2hfcanddplite;1\n",
      "DF_2261906104086903/O2hfcanddpml;1\n",
      "DF_2261906104087031/O2hfcanddplite;1\n",
      "DF_2261906104087031/O2hfcanddpml;1\n",
      "DF_2261906104087159/O2hfcanddplite;1\n",
      "DF_2261906104087159/O2hfcanddpml;1\n",
      "DF_2261906104087287/O2hfcanddplite;1\n",
      "DF_2261906104087287/O2hfcanddpml;1\n",
      "DF_2261906105222775/O2hfcanddplite;1\n",
      "DF_2261906105222775/O2hfcanddpml;1\n",
      "DF_2261906105222903/O2hfcanddplite;1\n",
      "DF_2261906105222903/O2hfcanddpml;1\n",
      "DF_2261906105223031/O2hfcanddplite;1\n",
      "DF_2261906105223031/O2hfcanddpml;1\n",
      "DF_2261906105223159/O2hfcanddplite;1\n",
      "DF_2261906105223159/O2hfcanddpml;1\n",
      "DF_2261906105223287/O2hfcanddplite;1\n",
      "DF_2261906105223287/O2hfcanddpml;1\n",
      "DF_2261906106402935/O2hfcanddplite;1\n",
      "DF_2261906106402935/O2hfcanddpml;1\n",
      "DF_2261906106403063/O2hfcanddplite;1\n",
      "DF_2261906106403063/O2hfcanddpml;1\n",
      "DF_2261906106403191/O2hfcanddplite;1\n",
      "DF_2261906106403191/O2hfcanddpml;1\n",
      "DF_2261906106403319/O2hfcanddplite;1\n",
      "DF_2261906106403319/O2hfcanddpml;1\n",
      "DF_2261906106403447/O2hfcanddplite;1\n",
      "DF_2261906106403447/O2hfcanddpml;1\n",
      "len(combined_df_data): 368\n",
      "len(combined_df_data_lite): 368\n"
     ]
    }
   ],
   "source": [
    "dfsData = []\n",
    "dfsDataLite = []\n",
    "with uproot.open('/home/mdicosta/LocalTestsO2/dplustree/AO2D.root') as f:\n",
    "    print(f.keys())\n",
    "    for iKey, key in enumerate(f.keys()):\n",
    "        # if 'O2hfcanddplite' in key:\n",
    "        # if 'O2hfcanddpml' in key:\n",
    "        if 'O2hfcanddplite' in key:\n",
    "            print(key)\n",
    "            dfData = f[key].arrays(library='pd')\n",
    "            dfsData.append(dfData)\n",
    "\n",
    "        # if 'O2hfcanddplite' in key:\n",
    "        if 'O2hfcanddpml' in key:\n",
    "            print(key)\n",
    "            dfDataLite = f[key].arrays(library='pd')\n",
    "            dfsDataLite.append(dfDataLite)\n",
    "\n",
    "combined_df_data = pd.concat([df for df in dfsData], ignore_index=True)\n",
    "combined_df_data_lite = pd.concat([df for df in dfsDataLite], ignore_index=True)\n",
    "\n",
    "print(f\"len(combined_df_data): {len(combined_df_data)}\")\n",
    "print(f\"len(combined_df_data_lite): {len(combined_df_data_lite)}\")"
   ]
  },
  {
   "cell_type": "code",
   "execution_count": 3,
   "metadata": {},
   "outputs": [
    {
     "name": "stdout",
     "output_type": "stream",
     "text": [
      "368\n",
      "Index(['fMlScore0', 'fMlScore1'], dtype='object')\n"
     ]
    }
   ],
   "source": [
    "combined_df_data.columns\n",
    "print(len(combined_df_data))\n",
    "print(combined_df_data.columns)"
   ]
  },
  {
   "cell_type": "code",
   "execution_count": 5,
   "metadata": {},
   "outputs": [
    {
     "ename": "KeyError",
     "evalue": "'fFlagMcMatchRec'",
     "output_type": "error",
     "traceback": [
      "\u001b[0;31m---------------------------------------------------------------------------\u001b[0m",
      "\u001b[0;31mKeyError\u001b[0m                                  Traceback (most recent call last)",
      "File \u001b[0;32m~/virtenvpy/phys/lib/python3.12/site-packages/pandas/core/indexes/base.py:3805\u001b[0m, in \u001b[0;36mIndex.get_loc\u001b[0;34m(self, key)\u001b[0m\n\u001b[1;32m   3804\u001b[0m \u001b[38;5;28;01mtry\u001b[39;00m:\n\u001b[0;32m-> 3805\u001b[0m     \u001b[38;5;28;01mreturn\u001b[39;00m \u001b[38;5;28;43mself\u001b[39;49m\u001b[38;5;241;43m.\u001b[39;49m\u001b[43m_engine\u001b[49m\u001b[38;5;241;43m.\u001b[39;49m\u001b[43mget_loc\u001b[49m\u001b[43m(\u001b[49m\u001b[43mcasted_key\u001b[49m\u001b[43m)\u001b[49m\n\u001b[1;32m   3806\u001b[0m \u001b[38;5;28;01mexcept\u001b[39;00m \u001b[38;5;167;01mKeyError\u001b[39;00m \u001b[38;5;28;01mas\u001b[39;00m err:\n",
      "File \u001b[0;32mindex.pyx:167\u001b[0m, in \u001b[0;36mpandas._libs.index.IndexEngine.get_loc\u001b[0;34m()\u001b[0m\n",
      "File \u001b[0;32mindex.pyx:196\u001b[0m, in \u001b[0;36mpandas._libs.index.IndexEngine.get_loc\u001b[0;34m()\u001b[0m\n",
      "File \u001b[0;32mpandas/_libs/hashtable_class_helper.pxi:7081\u001b[0m, in \u001b[0;36mpandas._libs.hashtable.PyObjectHashTable.get_item\u001b[0;34m()\u001b[0m\n",
      "File \u001b[0;32mpandas/_libs/hashtable_class_helper.pxi:7089\u001b[0m, in \u001b[0;36mpandas._libs.hashtable.PyObjectHashTable.get_item\u001b[0;34m()\u001b[0m\n",
      "\u001b[0;31mKeyError\u001b[0m: 'fFlagMcMatchRec'",
      "\nThe above exception was the direct cause of the following exception:\n",
      "\u001b[0;31mKeyError\u001b[0m                                  Traceback (most recent call last)",
      "Cell \u001b[0;32mIn[5], line 1\u001b[0m\n\u001b[0;32m----> 1\u001b[0m unique_values \u001b[38;5;241m=\u001b[39m \u001b[43mcombined_df_data\u001b[49m\u001b[43m[\u001b[49m\u001b[38;5;124;43m'\u001b[39;49m\u001b[38;5;124;43mfFlagMcMatchRec\u001b[39;49m\u001b[38;5;124;43m'\u001b[39;49m\u001b[43m]\u001b[49m\u001b[38;5;241m.\u001b[39munique()\n\u001b[1;32m      2\u001b[0m \u001b[38;5;28mprint\u001b[39m(\u001b[38;5;124m\"\u001b[39m\u001b[38;5;124mUnique values in fFlagMcMatchRec:\u001b[39m\u001b[38;5;124m\"\u001b[39m, unique_values)\n",
      "File \u001b[0;32m~/virtenvpy/phys/lib/python3.12/site-packages/pandas/core/frame.py:4102\u001b[0m, in \u001b[0;36mDataFrame.__getitem__\u001b[0;34m(self, key)\u001b[0m\n\u001b[1;32m   4100\u001b[0m \u001b[38;5;28;01mif\u001b[39;00m \u001b[38;5;28mself\u001b[39m\u001b[38;5;241m.\u001b[39mcolumns\u001b[38;5;241m.\u001b[39mnlevels \u001b[38;5;241m>\u001b[39m \u001b[38;5;241m1\u001b[39m:\n\u001b[1;32m   4101\u001b[0m     \u001b[38;5;28;01mreturn\u001b[39;00m \u001b[38;5;28mself\u001b[39m\u001b[38;5;241m.\u001b[39m_getitem_multilevel(key)\n\u001b[0;32m-> 4102\u001b[0m indexer \u001b[38;5;241m=\u001b[39m \u001b[38;5;28;43mself\u001b[39;49m\u001b[38;5;241;43m.\u001b[39;49m\u001b[43mcolumns\u001b[49m\u001b[38;5;241;43m.\u001b[39;49m\u001b[43mget_loc\u001b[49m\u001b[43m(\u001b[49m\u001b[43mkey\u001b[49m\u001b[43m)\u001b[49m\n\u001b[1;32m   4103\u001b[0m \u001b[38;5;28;01mif\u001b[39;00m is_integer(indexer):\n\u001b[1;32m   4104\u001b[0m     indexer \u001b[38;5;241m=\u001b[39m [indexer]\n",
      "File \u001b[0;32m~/virtenvpy/phys/lib/python3.12/site-packages/pandas/core/indexes/base.py:3812\u001b[0m, in \u001b[0;36mIndex.get_loc\u001b[0;34m(self, key)\u001b[0m\n\u001b[1;32m   3807\u001b[0m     \u001b[38;5;28;01mif\u001b[39;00m \u001b[38;5;28misinstance\u001b[39m(casted_key, \u001b[38;5;28mslice\u001b[39m) \u001b[38;5;129;01mor\u001b[39;00m (\n\u001b[1;32m   3808\u001b[0m         \u001b[38;5;28misinstance\u001b[39m(casted_key, abc\u001b[38;5;241m.\u001b[39mIterable)\n\u001b[1;32m   3809\u001b[0m         \u001b[38;5;129;01mand\u001b[39;00m \u001b[38;5;28many\u001b[39m(\u001b[38;5;28misinstance\u001b[39m(x, \u001b[38;5;28mslice\u001b[39m) \u001b[38;5;28;01mfor\u001b[39;00m x \u001b[38;5;129;01min\u001b[39;00m casted_key)\n\u001b[1;32m   3810\u001b[0m     ):\n\u001b[1;32m   3811\u001b[0m         \u001b[38;5;28;01mraise\u001b[39;00m InvalidIndexError(key)\n\u001b[0;32m-> 3812\u001b[0m     \u001b[38;5;28;01mraise\u001b[39;00m \u001b[38;5;167;01mKeyError\u001b[39;00m(key) \u001b[38;5;28;01mfrom\u001b[39;00m \u001b[38;5;21;01merr\u001b[39;00m\n\u001b[1;32m   3813\u001b[0m \u001b[38;5;28;01mexcept\u001b[39;00m \u001b[38;5;167;01mTypeError\u001b[39;00m:\n\u001b[1;32m   3814\u001b[0m     \u001b[38;5;66;03m# If we have a listlike key, _check_indexing_error will raise\u001b[39;00m\n\u001b[1;32m   3815\u001b[0m     \u001b[38;5;66;03m#  InvalidIndexError. Otherwise we fall through and re-raise\u001b[39;00m\n\u001b[1;32m   3816\u001b[0m     \u001b[38;5;66;03m#  the TypeError.\u001b[39;00m\n\u001b[1;32m   3817\u001b[0m     \u001b[38;5;28mself\u001b[39m\u001b[38;5;241m.\u001b[39m_check_indexing_error(key)\n",
      "\u001b[0;31mKeyError\u001b[0m: 'fFlagMcMatchRec'"
     ]
    }
   ],
   "source": [
    "unique_values = combined_df_data['fFlagMcMatchRec'].unique()\n",
    "print(\"Unique values in fFlagMcMatchRec:\", unique_values)"
   ]
  },
  {
   "cell_type": "code",
   "execution_count": null,
   "metadata": {},
   "outputs": [
    {
     "name": "stdout",
     "output_type": "stream",
     "text": [
      "Unique values in fFlagMcDecayChanRec: [0 3 1 2]\n"
     ]
    }
   ],
   "source": [
    "unique_values = combined_df_data['fFlagMcDecayChanRec'].unique()\n",
    "print(\"Unique values in fFlagMcDecayChanRec:\", unique_values)"
   ]
  },
  {
   "cell_type": "code",
   "execution_count": 6,
   "metadata": {},
   "outputs": [
    {
     "name": "stderr",
     "output_type": "stream",
     "text": [
      "/tmp/ipykernel_4025490/2423839836.py:12: UserWarning: No artists with labels found to put in legend.  Note that artists whose label start with an underscore are ignored when legend() is called with no argument.\n",
      "  axes[i].legend()  # Add legend to the current axis\n"
     ]
    },
    {
     "data": {
      "image/png": "[encoded data removed]",
      "text/plain": [
       "<Figure size 1500x500 with 2 Axes>"
      ]
     },
     "metadata": {},
     "output_type": "display_data"
    }
   ],
   "source": [
    "n_columns = len(combined_df_data.columns)\n",
    "n_rows = (n_columns // 4) + (1 if n_columns % 4 else 0)\n",
    "\n",
    "fig, axes = plt.subplots(n_rows, 4, figsize=(15, 5 * n_rows))\n",
    "axes = axes.flatten()\n",
    "for i, column in enumerate(combined_df_data.columns):\n",
    "    axes[i].hist(combined_df_data[column], bins=50, color='blue', density=True)\n",
    "    axes[i].set_title(f'{column}')\n",
    "    axes[i].set_xlabel('Value')\n",
    "    axes[i].set_ylabel('Frequency')\n",
    "    # axes[i].set_yscale('log')\n",
    "    axes[i].legend()  # Add legend to the current axis\n",
    "\n",
    "# Remove unused axes if any\n",
    "for i in range(n_columns, len(axes)):\n",
    "    fig.delaxes(axes[i])\n",
    "\n",
    "plt.tight_layout()\n",
    "plt.show()"
   ]
  },
  {
   "cell_type": "code",
   "execution_count": null,
   "metadata": {},
   "outputs": [
    {
     "name": "stdout",
     "output_type": "stream",
     "text": [
      "54\n",
      "8      2\n",
      "30     2\n",
      "50     2\n",
      "52     2\n",
      "54     2\n",
      "70     2\n",
      "80     2\n",
      "84     2\n",
      "97     2\n",
      "104    2\n",
      "107    2\n",
      "112    2\n",
      "146    2\n",
      "154    2\n",
      "163    2\n",
      "168    2\n",
      "170    2\n",
      "172    2\n",
      "175    2\n",
      "178    2\n",
      "183    2\n",
      "186    2\n",
      "188    2\n",
      "193    2\n",
      "208    2\n",
      "211    2\n",
      "213    2\n",
      "217    2\n",
      "226    1\n",
      "230    2\n",
      "232    2\n",
      "240    1\n",
      "258    2\n",
      "260    2\n",
      "267    2\n",
      "268    2\n",
      "282    2\n",
      "284    2\n",
      "285    2\n",
      "292    2\n",
      "293    2\n",
      "296    1\n",
      "298    2\n",
      "301    1\n",
      "311    2\n",
      "313    1\n",
      "314    2\n",
      "323    2\n",
      "331    2\n",
      "334    2\n",
      "336    2\n",
      "339    2\n",
      "344    2\n",
      "349    2\n",
      "Name: fOriginMcRec, dtype: int8\n",
      "361\n"
     ]
    },
    {
     "data": {
      "image/png": "[encoded data removed]",
      "text/plain": [
       "<Figure size 640x480 with 1 Axes>"
      ]
     },
     "metadata": {},
     "output_type": "display_data"
    }
   ],
   "source": [
    "combined_df_data.query('abs(fFlagMcMatchRec) == 16')['fM'].hist(bins=8, color='blue', alpha=0.5, label='Matched')\n",
    "queried_dstars = combined_df_data.query('abs(fFlagMcMatchRec) == 16')\n",
    "print(len(queried_dstars['fFlagMcDecayChanRec']))\n",
    "print(queried_dstars['fOriginMcRec'])\n",
    "print(len(combined_df_data))"
   ]
  },
  {
   "cell_type": "code",
   "execution_count": null,
   "metadata": {},
   "outputs": [
    {
     "data": {
      "text/plain": [
       "<Axes: >"
      ]
     },
     "execution_count": 43,
     "metadata": {},
     "output_type": "execute_result"
    },
    {
     "data": {
      "image/png": "[encoded data removed]",
      "text/plain": [
       "<Figure size 640x480 with 1 Axes>"
      ]
     },
     "metadata": {},
     "output_type": "display_data"
    }
   ],
   "source": [
    "combined_df_data.query('abs(fFlagMcDecayChanRec) == 0')['fM'].hist(bins=50, color='blue', alpha=0.5, label='Matched')"
   ]
  },
  {
   "cell_type": "code",
   "execution_count": null,
   "metadata": {},
   "outputs": [
    {
     "data": {
      "text/plain": [
       "<Axes: >"
      ]
     },
     "execution_count": 44,
     "metadata": {},
     "output_type": "execute_result"
    },
    {
     "data": {
      "image/png": "[encoded data removed]",
      "text/plain": [
       "<Figure size 640x480 with 1 Axes>"
      ]
     },
     "metadata": {},
     "output_type": "display_data"
    }
   ],
   "source": [
    "combined_df_data.query('abs(fFlagMcDecayChanRec) == 1')['fM'].hist(bins=50, range=(1.2,2.2), color='blue', alpha=0.5, label='Matched')"
   ]
  },
  {
   "cell_type": "code",
   "execution_count": null,
   "metadata": {},
   "outputs": [
    {
     "data": {
      "text/plain": [
       "<Axes: >"
      ]
     },
     "execution_count": 45,
     "metadata": {},
     "output_type": "execute_result"
    },
    {
     "data": {
      "image/png": "[encoded data removed]",
      "text/plain": [
       "<Figure size 640x480 with 1 Axes>"
      ]
     },
     "metadata": {},
     "output_type": "display_data"
    }
   ],
   "source": [
    "combined_df_data.query('abs(fFlagMcDecayChanRec) == 2')['fM'].hist(bins=50, range=(1.2,2.2), color='blue', alpha=0.5, label='Matched')"
   ]
  },
  {
   "cell_type": "code",
   "execution_count": null,
   "metadata": {},
   "outputs": [
    {
     "data": {
      "text/plain": [
       "<Axes: >"
      ]
     },
     "execution_count": 25,
     "metadata": {},
     "output_type": "execute_result"
    },
    {
     "data": {
      "image/png": "[encoded data removed]",
      "text/plain": [
       "<Figure size 640x480 with 1 Axes>"
      ]
     },
     "metadata": {},
     "output_type": "display_data"
    },
    {
     "ename": "",
     "evalue": "",
     "output_type": "error",
     "traceback": [
      "\u001b[1;31mnotebook controller is DISPOSED. \n",
      "\u001b[1;31mView Jupyter <a href='command:jupyter.viewOutput'>log</a> for further details."
     ]
    },
    {
     "ename": "",
     "evalue": "",
     "output_type": "error",
     "traceback": [
      "\u001b[1;31mnotebook controller is DISPOSED. \n",
      "\u001b[1;31mView Jupyter <a href='command:jupyter.viewOutput'>log</a> for further details."
     ]
    },
    {
     "ename": "",
     "evalue": "",
     "output_type": "error",
     "traceback": [
      "\u001b[1;31mnotebook controller is DISPOSED. \n",
      "\u001b[1;31mView Jupyter <a href='command:jupyter.viewOutput'>log</a> for further details."
     ]
    },
    {
     "ename": "",
     "evalue": "",
     "output_type": "error",
     "traceback": [
      "\u001b[1;31mnotebook controller is DISPOSED. \n",
      "\u001b[1;31mView Jupyter <a href='command:jupyter.viewOutput'>log</a> for further details."
     ]
    },
    {
     "ename": "",
     "evalue": "",
     "output_type": "error",
     "traceback": [
      "\u001b[1;31mnotebook controller is DISPOSED. \n",
      "\u001b[1;31mView Jupyter <a href='command:jupyter.viewOutput'>log</a> for further details."
     ]
    },
    {
     "ename": "",
     "evalue": "",
     "output_type": "error",
     "traceback": [
      "\u001b[1;31mnotebook controller is DISPOSED. \n",
      "\u001b[1;31mView Jupyter <a href='command:jupyter.viewOutput'>log</a> for further details."
     ]
    }
   ],
   "source": [
    "combined_df_data.query('abs(fFlagMcDecayChanRec) == 3')['fM'].hist(bins=50, color='blue', alpha=0.5, density=True, label='Matched')"
   ]
  }
 ],
 "metadata": {
  "kernelspec": {
   "display_name": "phys",
   "language": "python",
   "name": "phys"
  },
  "language_info": {
   "codemirror_mode": {
    "name": "ipython",
    "version": 3
   },
   "file_extension": ".py",
   "mimetype": "text/x-python",
   "name": "python",
   "nbconvert_exporter": "python",
   "pygments_lexer": "ipython3",
   "version": "3.12.3"
  }
 },
 "nbformat": 4,
 "nbformat_minor": 2
}
